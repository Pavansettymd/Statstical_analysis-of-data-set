{
 "cells": [
  {
   "cell_type": "markdown",
   "id": "7df0bbe5-f455-443d-bb66-b5b65ae73fc5",
   "metadata": {},
   "source": [
    "\n",
    "                                                          STATISTICAL ANALYSIS"
   ]
  },
  {
   "cell_type": "markdown",
   "id": "7d9bb824-03d1-4900-b795-4885f585319e",
   "metadata": {},
   "source": [
    "1. APPLYING THE STATISTICAL METHODS"
   ]
  },
  {
   "cell_type": "markdown",
   "id": "77c30408-07c8-4bcd-bbd3-9ab3682f026e",
   "metadata": {},
   "source": [
    "1.1 LOADING THE BREAST CANCER DATASET :"
   ]
  },
  {
   "cell_type": "code",
   "execution_count": 6,
   "id": "02386b34-ceea-423c-b99e-a1d35ed00b7f",
   "metadata": {},
   "outputs": [
    {
     "name": "stdout",
     "output_type": "stream",
     "text": [
      "   mean radius  mean texture  mean perimeter  mean area  mean smoothness  \\\n",
      "0        17.99         10.38          122.80     1001.0          0.11840   \n",
      "1        20.57         17.77          132.90     1326.0          0.08474   \n",
      "2        19.69         21.25          130.00     1203.0          0.10960   \n",
      "3        11.42         20.38           77.58      386.1          0.14250   \n",
      "4        20.29         14.34          135.10     1297.0          0.10030   \n",
      "\n",
      "   mean compactness  mean concavity  mean concave points  mean symmetry  \\\n",
      "0           0.27760          0.3001              0.14710         0.2419   \n",
      "1           0.07864          0.0869              0.07017         0.1812   \n",
      "2           0.15990          0.1974              0.12790         0.2069   \n",
      "3           0.28390          0.2414              0.10520         0.2597   \n",
      "4           0.13280          0.1980              0.10430         0.1809   \n",
      "\n",
      "   mean fractal dimension  ...  worst texture  worst perimeter  worst area  \\\n",
      "0                 0.07871  ...          17.33           184.60      2019.0   \n",
      "1                 0.05667  ...          23.41           158.80      1956.0   \n",
      "2                 0.05999  ...          25.53           152.50      1709.0   \n",
      "3                 0.09744  ...          26.50            98.87       567.7   \n",
      "4                 0.05883  ...          16.67           152.20      1575.0   \n",
      "\n",
      "   worst smoothness  worst compactness  worst concavity  worst concave points  \\\n",
      "0            0.1622             0.6656           0.7119                0.2654   \n",
      "1            0.1238             0.1866           0.2416                0.1860   \n",
      "2            0.1444             0.4245           0.4504                0.2430   \n",
      "3            0.2098             0.8663           0.6869                0.2575   \n",
      "4            0.1374             0.2050           0.4000                0.1625   \n",
      "\n",
      "   worst symmetry  worst fractal dimension  target  \n",
      "0          0.4601                  0.11890       0  \n",
      "1          0.2750                  0.08902       0  \n",
      "2          0.3613                  0.08758       0  \n",
      "3          0.6638                  0.17300       0  \n",
      "4          0.2364                  0.07678       0  \n",
      "\n",
      "[5 rows x 31 columns]\n"
     ]
    }
   ],
   "source": [
    "import pandas as pd\n",
    "from sklearn.datasets import load_breast_cancer\n",
    "\n",
    "# Load the dataset\n",
    "breast_cancer = load_breast_cancer()\n",
    "df = pd.DataFrame(data=breast_cancer.data, columns=breast_cancer.feature_names)\n",
    "df['target'] = breast_cancer.target\n",
    "\n",
    "# Display the first few rows\n",
    "print(df.head())"
   ]
  },
  {
   "cell_type": "markdown",
   "id": "378412ad-6222-4fe8-9c74-53cd596aa62b",
   "metadata": {},
   "source": [
    "1.2 Performing Descriptive Statistics :"
   ]
  },
  {
   "cell_type": "markdown",
   "id": "8b354c46-6d15-4ce8-988f-4ce14a7fe4b0",
   "metadata": {},
   "source": [
    "# Descriptive statistics help us summarize and describe the main features of a dataset. This includes measures of central tendency, variability,     frequency distribution.\n",
    ". Measures of central tendency describe the center of the data set (mean, median, mode).\n",
    ". Measures of variability describe the dispersion of the data set (variance, standard deviation). \n",
    ". Measures of frequency distribution describe the occurrence of data within the data set (count)."
   ]
  },
  {
   "cell_type": "code",
   "execution_count": 12,
   "id": "0a15a33c-3bb9-4023-ba0d-1c0d2e72446e",
   "metadata": {},
   "outputs": [
    {
     "name": "stdout",
     "output_type": "stream",
     "text": [
      "Mean:\n",
      " mean radius                 14.127292\n",
      "mean texture                19.289649\n",
      "mean perimeter              91.969033\n",
      "mean area                  654.889104\n",
      "mean smoothness              0.096360\n",
      "mean compactness             0.104341\n",
      "mean concavity               0.088799\n",
      "mean concave points          0.048919\n",
      "mean symmetry                0.181162\n",
      "mean fractal dimension       0.062798\n",
      "radius error                 0.405172\n",
      "texture error                1.216853\n",
      "perimeter error              2.866059\n",
      "area error                  40.337079\n",
      "smoothness error             0.007041\n",
      "compactness error            0.025478\n",
      "concavity error              0.031894\n",
      "concave points error         0.011796\n",
      "symmetry error               0.020542\n",
      "fractal dimension error      0.003795\n",
      "worst radius                16.269190\n",
      "worst texture               25.677223\n",
      "worst perimeter            107.261213\n",
      "worst area                 880.583128\n",
      "worst smoothness             0.132369\n",
      "worst compactness            0.254265\n",
      "worst concavity              0.272188\n",
      "worst concave points         0.114606\n",
      "worst symmetry               0.290076\n",
      "worst fractal dimension      0.083946\n",
      "target                       0.627417\n",
      "dtype: float64\n",
      "\n",
      "Median:\n",
      " mean radius                 13.370000\n",
      "mean texture                18.840000\n",
      "mean perimeter              86.240000\n",
      "mean area                  551.100000\n",
      "mean smoothness              0.095870\n",
      "mean compactness             0.092630\n",
      "mean concavity               0.061540\n",
      "mean concave points          0.033500\n",
      "mean symmetry                0.179200\n",
      "mean fractal dimension       0.061540\n",
      "radius error                 0.324200\n",
      "texture error                1.108000\n",
      "perimeter error              2.287000\n",
      "area error                  24.530000\n",
      "smoothness error             0.006380\n",
      "compactness error            0.020450\n",
      "concavity error              0.025890\n",
      "concave points error         0.010930\n",
      "symmetry error               0.018730\n",
      "fractal dimension error      0.003187\n",
      "worst radius                14.970000\n",
      "worst texture               25.410000\n",
      "worst perimeter             97.660000\n",
      "worst area                 686.500000\n",
      "worst smoothness             0.131300\n",
      "worst compactness            0.211900\n",
      "worst concavity              0.226700\n",
      "worst concave points         0.099930\n",
      "worst symmetry               0.282200\n",
      "worst fractal dimension      0.080040\n",
      "target                       1.000000\n",
      "dtype: float64\n",
      "\n",
      "Mode:\n",
      " mean radius                 12.340000\n",
      "mean texture                14.930000\n",
      "mean perimeter              82.610000\n",
      "mean area                  512.200000\n",
      "mean smoothness              0.100700\n",
      "mean compactness             0.114700\n",
      "mean concavity               0.000000\n",
      "mean concave points          0.000000\n",
      "mean symmetry                0.160100\n",
      "mean fractal dimension       0.056670\n",
      "radius error                 0.220400\n",
      "texture error                0.856100\n",
      "perimeter error              1.778000\n",
      "area error                  16.640000\n",
      "smoothness error             0.005080\n",
      "compactness error            0.011040\n",
      "concavity error              0.000000\n",
      "concave points error         0.000000\n",
      "symmetry error               0.013440\n",
      "fractal dimension error      0.001784\n",
      "worst radius                12.360000\n",
      "worst texture               17.700000\n",
      "worst perimeter            101.700000\n",
      "worst area                 284.400000\n",
      "worst smoothness             0.121600\n",
      "worst compactness            0.148600\n",
      "worst concavity              0.000000\n",
      "worst concave points         0.000000\n",
      "worst symmetry               0.222600\n",
      "worst fractal dimension      0.074270\n",
      "target                       1.000000\n",
      "Name: 0, dtype: float64\n",
      "\n",
      "Standard Deviation:\n",
      " mean radius                  3.524049\n",
      "mean texture                 4.301036\n",
      "mean perimeter              24.298981\n",
      "mean area                  351.914129\n",
      "mean smoothness              0.014064\n",
      "mean compactness             0.052813\n",
      "mean concavity               0.079720\n",
      "mean concave points          0.038803\n",
      "mean symmetry                0.027414\n",
      "mean fractal dimension       0.007060\n",
      "radius error                 0.277313\n",
      "texture error                0.551648\n",
      "perimeter error              2.021855\n",
      "area error                  45.491006\n",
      "smoothness error             0.003003\n",
      "compactness error            0.017908\n",
      "concavity error              0.030186\n",
      "concave points error         0.006170\n",
      "symmetry error               0.008266\n",
      "fractal dimension error      0.002646\n",
      "worst radius                 4.833242\n",
      "worst texture                6.146258\n",
      "worst perimeter             33.602542\n",
      "worst area                 569.356993\n",
      "worst smoothness             0.022832\n",
      "worst compactness            0.157336\n",
      "worst concavity              0.208624\n",
      "worst concave points         0.065732\n",
      "worst symmetry               0.061867\n",
      "worst fractal dimension      0.018061\n",
      "target                       0.483918\n",
      "dtype: float64\n",
      "\n",
      "Variance:\n",
      " mean radius                    12.418920\n",
      "mean texture                   18.498909\n",
      "mean perimeter                590.440480\n",
      "mean area                  123843.554318\n",
      "mean smoothness                 0.000198\n",
      "mean compactness                0.002789\n",
      "mean concavity                  0.006355\n",
      "mean concave points             0.001506\n",
      "mean symmetry                   0.000752\n",
      "mean fractal dimension          0.000050\n",
      "radius error                    0.076902\n",
      "texture error                   0.304316\n",
      "perimeter error                 4.087896\n",
      "area error                   2069.431583\n",
      "smoothness error                0.000009\n",
      "compactness error               0.000321\n",
      "concavity error                 0.000911\n",
      "concave points error            0.000038\n",
      "symmetry error                  0.000068\n",
      "fractal dimension error         0.000007\n",
      "worst radius                   23.360224\n",
      "worst texture                  37.776483\n",
      "worst perimeter              1129.130847\n",
      "worst area                 324167.385102\n",
      "worst smoothness                0.000521\n",
      "worst compactness               0.024755\n",
      "worst concavity                 0.043524\n",
      "worst concave points            0.004321\n",
      "worst symmetry                  0.003828\n",
      "worst fractal dimension         0.000326\n",
      "target                          0.234177\n",
      "dtype: float64\n"
     ]
    }
   ],
   "source": [
    "# Calculate basic descriptive statistics\n",
    "print(\"Mean:\\n\", df.mean())\n",
    "print(\"\\nMedian:\\n\", df.median())\n",
    "print(\"\\nMode:\\n\", df.mode().iloc[0])\n",
    "print(\"\\nStandard Deviation:\\n\", df.std())\n",
    "print(\"\\nVariance:\\n\", df.var())"
   ]
  },
  {
   "cell_type": "markdown",
   "id": "6c0aa57c-5442-4f8c-b123-2acc6597e7a9",
   "metadata": {},
   "source": [
    "1.3 PERFORMING INFERENTIAL STATISTICS :"
   ]
  },
  {
   "cell_type": "markdown",
   "id": "eea7b911-a76a-4716-8ae8-3b473eafb1ef",
   "metadata": {},
   "source": [
    "# Inferential statistics can be classified into hypothesis testing and regression analysis. Hypothesis testing also includes the use of confidence intervals to test the parameters of a population. \n",
    " . Hypothesis testing provides a way to verify whether the results of an experiment are valid.\n",
    " . Regression analysis is used to quantify how one variable will change with respect to another variable. There are many types of regressions available such as simple linear, multiple linear, nominal, logistic, and ordinal regression."
   ]
  },
  {
   "cell_type": "code",
   "execution_count": 16,
   "id": "e36e1209-9a10-4a38-ad5e-d93f7141e688",
   "metadata": {},
   "outputs": [
    {
     "name": "stdout",
     "output_type": "stream",
     "text": [
      "T-Statistic: 0.8616173566232037\n",
      "P-Value: 0.3892617071079777\n",
      "Fail to reject the null hypothesis.\n"
     ]
    }
   ],
   "source": [
    "from scipy import stats\n",
    "\n",
    "# Select the feature of interest, for example, 'mean radius'\n",
    "feature_values = df['mean radius']\n",
    "\n",
    "# Hypothetical population mean to compare against\n",
    "hypothetical_mean = 14.0  # This is an example value; you can change it as needed\n",
    "\n",
    "# Perform a one-sample t-test\n",
    "t_stat, p_value = stats.ttest_1samp(feature_values, hypothetical_mean)\n",
    "\n",
    "# Print the results\n",
    "print(\"T-Statistic:\", t_stat)\n",
    "print(\"P-Value:\", p_value)\n",
    "\n",
    "# Interpretation\n",
    "alpha = 0.05  # Significance level (commonly used value)\n",
    "\n",
    "if p_value < alpha:\n",
    "    print(\"Reject the null hypothesis.\")\n",
    "else:\n",
    "    print(\"Fail to reject the null hypothesis.\")"
   ]
  },
  {
   "cell_type": "markdown",
   "id": "70709ea2-4d6d-4d02-8b8f-8ecfe400f3cf",
   "metadata": {},
   "source": [
    "1.4 CONFIDENCE INTERVALS :"
   ]
  },
  {
   "cell_type": "markdown",
   "id": "46176d00-6c47-4df3-9904-9f35127f5fa8",
   "metadata": {},
   "source": [
    "Confidence Interval: Calculate a range where you are 95% confident that the true mean lies within this interval. This gives a sense of the uncertainty around the sample mean."
   ]
  },
  {
   "cell_type": "code",
   "execution_count": 20,
   "id": "6dae1139-e00d-474c-9cd8-ae8671f798f3",
   "metadata": {},
   "outputs": [
    {
     "name": "stdout",
     "output_type": "stream",
     "text": [
      "95% Confidence Interval for Mean Radius: (13.837734868964587, 14.416848610824518)\n"
     ]
    }
   ],
   "source": [
    "import numpy as np\n",
    "\n",
    "mean_radius_values = df['mean radius']\n",
    "\n",
    "# Sample mean and standard error for the selected feature (mean radius)\n",
    "sample_mean = np.mean(mean_radius_values)\n",
    "standard_error = stats.sem(mean_radius_values)\n",
    "\n",
    "# Compute the 95% confidence interval for the mean radius\n",
    "confidence_interval = stats.norm.interval(0.95, loc=sample_mean, scale=standard_error)\n",
    "\n",
    "print(\"95% Confidence Interval for Mean Radius:\", confidence_interval)"
   ]
  },
  {
   "cell_type": "markdown",
   "id": "5c6bb458-ea29-40a1-9210-4612caa5739d",
   "metadata": {},
   "source": [
    "1.5 Regression Analysis :"
   ]
  },
  {
   "cell_type": "markdown",
   "id": "cdc5f28f-4f51-4f1e-9b52-c8e63d97cecd",
   "metadata": {},
   "source": [
    "          a statistical method that studies the relationship between variables, and is used to predict and forecast outcomes."
   ]
  },
  {
   "cell_type": "code",
   "execution_count": 27,
   "id": "001045a0-5780-45ac-902c-c4d12c49c865",
   "metadata": {},
   "outputs": [
    {
     "name": "stdout",
     "output_type": "stream",
     "text": [
      "                            OLS Regression Results                            \n",
      "==============================================================================\n",
      "Dep. Variable:                      y   R-squared:                       0.533\n",
      "Model:                            OLS   Adj. R-squared:                  0.532\n",
      "Method:                 Least Squares   F-statistic:                     647.0\n",
      "Date:                Sun, 08 Sep 2024   Prob (F-statistic):           8.47e-96\n",
      "Time:                        19:42:44   Log-Likelihood:                -177.28\n",
      "No. Observations:                 569   AIC:                             358.6\n",
      "Df Residuals:                     567   BIC:                             367.3\n",
      "Df Model:                           1                                         \n",
      "Covariance Type:            nonrobust                                         \n",
      "===============================================================================\n",
      "                  coef    std err          t      P>|t|      [0.025      0.975]\n",
      "-------------------------------------------------------------------------------\n",
      "const           2.0436      0.057     35.615      0.000       1.931       2.156\n",
      "mean radius    -0.1002      0.004    -25.436      0.000      -0.108      -0.093\n",
      "==============================================================================\n",
      "Omnibus:                       35.054   Durbin-Watson:                   1.636\n",
      "Prob(Omnibus):                  0.000   Jarque-Bera (JB):               40.544\n",
      "Skew:                          -0.651   Prob(JB):                     1.57e-09\n",
      "Kurtosis:                       2.876   Cond. No.                         60.5\n",
      "==============================================================================\n",
      "\n",
      "Notes:\n",
      "[1] Standard Errors assume that the covariance matrix of the errors is correctly specified.\n"
     ]
    }
   ],
   "source": [
    "import statsmodels.api as sm\n",
    "\n",
    "# Define independent variable (add constant for intercept)\n",
    "X = sm.add_constant(df['mean radius'])  # You can replace 'mean radius' with any other feature from the Breast Cancer dataset\n",
    "\n",
    "# Define dependent variable (e.g., target variable in the Breast Cancer dataset)\n",
    "y = breast_cancer.target\n",
    "\n",
    "# Fit linear regression model\n",
    "model = sm.OLS(y, X).fit()\n",
    "\n",
    "# Print model summary\n",
    "print(model.summary())"
   ]
  },
  {
   "cell_type": "markdown",
   "id": "fcf9f9c9-2817-4434-9090-688c1abe4158",
   "metadata": {},
   "source": [
    "1.6 INTERPRETING REGRESSION MODEL RESULTS : "
   ]
  },
  {
   "cell_type": "code",
   "execution_count": 30,
   "id": "ca3db251-d7bb-495e-a6ee-3bb2c7cbb31c",
   "metadata": {},
   "outputs": [
    {
     "name": "stdout",
     "output_type": "stream",
     "text": [
      "\n",
      "Interpretation\n",
      "Coefficients:\n",
      "const          2.043629\n",
      "mean radius   -0.100247\n",
      "dtype: float64\n",
      "\n",
      "P-Values:\n",
      "const          9.460301e-147\n",
      "mean radius     8.465941e-96\n",
      "dtype: float64\n",
      "\n",
      "R-Squared:\n",
      "R-Squared:  0.532941627421065\n",
      "\n",
      "Interpretation of P-Values:\n",
      "If the p-value is less than 0.05, the coefficient is considered statistically significant. Otherwise, it is not.\n",
      "\n",
      "R-Squared: 0.53\n",
      "The model explains 53.29 % of the variability in the target variable.\n"
     ]
    }
   ],
   "source": [
    "# Extracting specific values\n",
    "coefficients = model.params\n",
    "p_values = model.pvalues\n",
    "r_squared = model.rsquared\n",
    "\n",
    "# Interpretation\n",
    "print(\"\\nInterpretation\")\n",
    "print(\"Coefficients:\")\n",
    "print(coefficients)\n",
    "print(\"\\nP-Values:\")\n",
    "print(p_values)\n",
    "print(\"\\nR-Squared:\")\n",
    "print(\"R-Squared: \", r_squared)\n",
    "\n",
    "# Basic interpretation of p-values\n",
    "print(\"\\nInterpretation of P-Values:\")\n",
    "print(\"If the p-value is less than 0.05, the coefficient is considered statistically significant. Otherwise, it is not.\")\n",
    "\n",
    "# R-Squared interpretation\n",
    "print(\"\\nR-Squared:\", round(r_squared, 2))\n",
    "print(\"The model explains\", round(r_squared * 100, 2), \"% of the variability in the target variable.\")"
   ]
  },
  {
   "cell_type": "markdown",
   "id": "20c08274-22ce-46e9-aa47-0a9712108851",
   "metadata": {},
   "source": [
    "1.7 VISUALIZING THE RELATIONSHIP BETWEEN MEAN TEXTURE WITH THE REGRESSION LINE :"
   ]
  },
  {
   "cell_type": "code",
   "execution_count": 37,
   "id": "143fec0f-1aed-475a-8f07-ade7dae9990c",
   "metadata": {},
   "outputs": [
    {
     "data": {
      "image/png": "[encoded data removed]",
      "text/plain": [
       "<Figure size 1000x600 with 1 Axes>"
      ]
     },
     "metadata": {},
     "output_type": "display_data"
    }
   ],
   "source": [
    "import numpy as np\n",
    "import pandas as pd\n",
    "import statsmodels.api as sm\n",
    "import matplotlib.pyplot as plt\n",
    "import seaborn as sns\n",
    "from sklearn.datasets import load_breast_cancer\n",
    "\n",
    "# Load breast cancer dataset\n",
    "data = load_breast_cancer()\n",
    "df = pd.DataFrame(data.data, columns=data.feature_names)\n",
    "df['target'] = data.target\n",
    "\n",
    "# Define the independent variable and dependent variable\n",
    "X = sm.add_constant(df['mean texture'])  # Adding constant for intercept\n",
    "y = df['target']\n",
    "\n",
    "# Fit linear regression model\n",
    "model = sm.OLS(y, X).fit()\n",
    "\n",
    "# Create a DataFrame for predictions\n",
    "df['predicted'] = model.predict(X)\n",
    "\n",
    "# Plot the scatter plot and regression line\n",
    "plt.figure(figsize=(10, 6))\n",
    "sns.scatterplot(x=df['mean texture'], y=y, label='Actual Data', color='lightblue')\n",
    "sns.lineplot(x=df['mean texture'], y=df['predicted'], label='Regression Line', color='red')\n",
    "plt.xlabel('Mean Texture')\n",
    "plt.ylabel('Target')\n",
    "plt.title('Relationship Between Mean Texture and Target with Regression Line')\n",
    "plt.gcf().set_facecolor('black') \n",
    "plt.gca().set_facecolor('black') \n",
    "plt.legend()\n",
    "plt.show()\n"
   ]
  },
  {
   "cell_type": "code",
   "execution_count": null,
   "id": "aed9d7c9-a419-492a-9368-c14f338e9fe5",
   "metadata": {},
   "outputs": [],
   "source": []
  }
 ],
 "metadata": {
  "kernelspec": {
   "display_name": "Python 3 (ipykernel)",
   "language": "python",
   "name": "python3"
  },
  "language_info": {
   "codemirror_mode": {
    "name": "ipython",
    "version": 3
   },
   "file_extension": ".py",
   "mimetype": "text/x-python",
   "name": "python",
   "nbconvert_exporter": "python",
   "pygments_lexer": "ipython3",
   "version": "3.12.4"
  }
 },
 "nbformat": 4,
 "nbformat_minor": 5
}
