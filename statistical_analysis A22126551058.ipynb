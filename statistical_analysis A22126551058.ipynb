{
 "cells": [
  {
   "cell_type": "code",
   "execution_count": 6,
   "id": "0531de9b",
   "metadata": {},
   "outputs": [
    {
     "name": "stdout",
     "output_type": "stream",
     "text": [
      "        age       sex       bmi        bp        s1        s2        s3  \\\n",
      "0  0.038076  0.050680  0.061696  0.021872 -0.044223 -0.034821 -0.043401   \n",
      "1 -0.001882 -0.044642 -0.051474 -0.026328 -0.008449 -0.019163  0.074412   \n",
      "2  0.085299  0.050680  0.044451 -0.005670 -0.045599 -0.034194 -0.032356   \n",
      "3 -0.089063 -0.044642 -0.011595 -0.036656  0.012191  0.024991 -0.036038   \n",
      "4  0.005383 -0.044642 -0.036385  0.021872  0.003935  0.015596  0.008142   \n",
      "\n",
      "         s4        s5        s6  target  \n",
      "0 -0.002592  0.019907 -0.017646   151.0  \n",
      "1 -0.039493 -0.068332 -0.092204    75.0  \n",
      "2 -0.002592  0.002861 -0.025930   141.0  \n",
      "3  0.034309  0.022688 -0.009362   206.0  \n",
      "4 -0.002592 -0.031988 -0.046641   135.0  \n"
     ]
    }
   ],
   "source": [
    "import pandas as pd\n",
    "from sklearn.datasets import load_diabetes\n",
    "\n",
    "# Load the dataset\n",
    "diabetes = load_diabetes()\n",
    "df = pd.DataFrame(data=diabetes.data, columns=diabetes.feature_names)\n",
    "df['target'] = diabetes.target\n",
    "\n",
    "# Display the first few rows\n",
    "print(df.head())"
   ]
  },
  {
   "cell_type": "code",
   "execution_count": 7,
   "id": "cae3126c",
   "metadata": {},
   "outputs": [
    {
     "name": "stdout",
     "output_type": "stream",
     "text": [
      "Mean:\n",
      " age      -1.444295e-18\n",
      "sex       2.543215e-18\n",
      "bmi      -2.255925e-16\n",
      "bp       -4.854086e-17\n",
      "s1       -1.428596e-17\n",
      "s2        3.898811e-17\n",
      "s3       -6.028360e-18\n",
      "s4       -1.788100e-17\n",
      "s5        9.243486e-17\n",
      "s6        1.351770e-17\n",
      "target    1.521335e+02\n",
      "dtype: float64\n",
      "\n",
      "Median:\n",
      " age         0.005383\n",
      "sex        -0.044642\n",
      "bmi        -0.007284\n",
      "bp         -0.005670\n",
      "s1         -0.004321\n",
      "s2         -0.003819\n",
      "s3         -0.006584\n",
      "s4         -0.002592\n",
      "s5         -0.001947\n",
      "s6         -0.001078\n",
      "target    140.500000\n",
      "dtype: float64\n",
      "\n",
      "Mode:\n",
      " age        0.016281\n",
      "sex       -0.044642\n",
      "bmi       -0.030996\n",
      "bp        -0.040099\n",
      "s1        -0.037344\n",
      "s2        -0.001001\n",
      "s3        -0.013948\n",
      "s4        -0.039493\n",
      "s5        -0.018114\n",
      "s6         0.003064\n",
      "target    72.000000\n",
      "Name: 0, dtype: float64\n",
      "\n",
      "Standard Deviation:\n",
      " age        0.047619\n",
      "sex        0.047619\n",
      "bmi        0.047619\n",
      "bp         0.047619\n",
      "s1         0.047619\n",
      "s2         0.047619\n",
      "s3         0.047619\n",
      "s4         0.047619\n",
      "s5         0.047619\n",
      "s6         0.047619\n",
      "target    77.093005\n",
      "dtype: float64\n",
      "\n",
      "Variance:\n",
      " age          0.002268\n",
      "sex          0.002268\n",
      "bmi          0.002268\n",
      "bp           0.002268\n",
      "s1           0.002268\n",
      "s2           0.002268\n",
      "s3           0.002268\n",
      "s4           0.002268\n",
      "s5           0.002268\n",
      "s6           0.002268\n",
      "target    5943.331348\n",
      "dtype: float64\n",
      "\n",
      "Range:\n",
      " age         0.217952\n",
      "sex         0.095322\n",
      "bmi         0.260831\n",
      "bp          0.244442\n",
      "s1          0.280694\n",
      "s2          0.314401\n",
      "s3          0.283486\n",
      "s4          0.261629\n",
      "s5          0.259694\n",
      "s6          0.273379\n",
      "target    321.000000\n",
      "dtype: float64\n",
      "\n",
      "Skewness:\n",
      " age      -0.231382\n",
      "sex       0.127385\n",
      "bmi       0.598148\n",
      "bp        0.290658\n",
      "s1        0.378108\n",
      "s2        0.436592\n",
      "s3        0.799255\n",
      "s4        0.735374\n",
      "s5        0.291754\n",
      "s6        0.207917\n",
      "target    0.440563\n",
      "dtype: float64\n",
      "\n",
      "Kurtosis:\n",
      " age      -0.671224\n",
      "sex      -1.992811\n",
      "bmi       0.095094\n",
      "bp       -0.532797\n",
      "s1        0.232948\n",
      "s2        0.601381\n",
      "s3        0.981507\n",
      "s4        0.444402\n",
      "s5       -0.134367\n",
      "s6        0.236917\n",
      "target   -0.883057\n",
      "dtype: float64\n"
     ]
    }
   ],
   "source": [
    "print(\"Mean:\\n\", df.mean())\n",
    "print(\"\\nMedian:\\n\", df.median())\n",
    "print(\"\\nMode:\\n\", df.mode().iloc[0])\n",
    "print(\"\\nStandard Deviation:\\n\", df.std())\n",
    "print(\"\\nVariance:\\n\", df.var())\n",
    "\n",
    "print(\"\\nRange:\\n\", df.max() - df.min())\n",
    "print(\"\\nSkewness:\\n\", df.skew())\n",
    "print(\"\\nKurtosis:\\n\", df.kurt())\n"
   ]
  },
  {
   "cell_type": "code",
   "execution_count": 8,
   "id": "4cbec7aa",
   "metadata": {},
   "outputs": [
    {
     "name": "stdout",
     "output_type": "stream",
     "text": [
      "T-Statistic: -22.074985843710174\n",
      "P-Value: 2.7634312235044638e-73\n"
     ]
    }
   ],
   "source": [
    "from scipy import stats\n",
    "\n",
    "bmi_values = df['bmi']\n",
    "\n",
    "population_mean = 0.05\n",
    "\n",
    "t_stat, p_value = stats.ttest_1samp(bmi_values, population_mean)\n",
    "\n",
    "print(f\"T-Statistic: {t_stat}\")\n",
    "print(f\"P-Value: {p_value}\")"
   ]
  },
  {
   "cell_type": "code",
   "execution_count": 9,
   "id": "3070a492",
   "metadata": {},
   "outputs": [
    {
     "name": "stdout",
     "output_type": "stream",
     "text": [
      "95% Confidence Interval for BMI: (-0.004439332370169141, 0.0044393323701686915)\n"
     ]
    }
   ],
   "source": [
    "import numpy as np\n",
    "from scipy import stats\n",
    "\n",
    "\n",
    "sample_mean = np.mean(bmi_values)\n",
    "standard_error = stats.sem(bmi_values)\n",
    "\n",
    "\n",
    "confidence_interval = stats.norm.interval(0.95, loc=sample_mean, scale=standard_error)\n",
    "\n",
    "print(f\"95% Confidence Interval for BMI: {confidence_interval}\")"
   ]
  },
  {
   "cell_type": "code",
   "execution_count": 10,
   "id": "e353af36",
   "metadata": {},
   "outputs": [
    {
     "name": "stdout",
     "output_type": "stream",
     "text": [
      "                            OLS Regression Results                            \n",
      "==============================================================================\n",
      "Dep. Variable:                 target   R-squared:                       0.344\n",
      "Model:                            OLS   Adj. R-squared:                  0.342\n",
      "Method:                 Least Squares   F-statistic:                     230.7\n",
      "Date:                Tue, 03 Sep 2024   Prob (F-statistic):           3.47e-42\n",
      "Time:                        11:07:28   Log-Likelihood:                -2454.0\n",
      "No. Observations:                 442   AIC:                             4912.\n",
      "Df Residuals:                     440   BIC:                             4920.\n",
      "Df Model:                           1                                         \n",
      "Covariance Type:            nonrobust                                         \n",
      "==============================================================================\n",
      "                 coef    std err          t      P>|t|      [0.025      0.975]\n",
      "------------------------------------------------------------------------------\n",
      "const        152.1335      2.974     51.162      0.000     146.289     157.978\n",
      "bmi          949.4353     62.515     15.187      0.000     826.570    1072.301\n",
      "==============================================================================\n",
      "Omnibus:                       11.674   Durbin-Watson:                   1.848\n",
      "Prob(Omnibus):                  0.003   Jarque-Bera (JB):                7.310\n",
      "Skew:                           0.156   Prob(JB):                       0.0259\n",
      "Kurtosis:                       2.453   Cond. No.                         21.0\n",
      "==============================================================================\n",
      "\n",
      "Notes:\n",
      "[1] Standard Errors assume that the covariance matrix of the errors is correctly specified.\n"
     ]
    }
   ],
   "source": [
    "import statsmodels.api as sm\n",
    "\n",
    "\n",
    "X = sm.add_constant(df['bmi'])\n",
    "\n",
    "y = df['target']\n",
    "\n",
    "model = sm.OLS(y, X).fit()\n",
    "\n",
    "print(model.summary())"
   ]
  },
  {
   "cell_type": "code",
   "execution_count": null,
   "id": "34dcc4f2",
   "metadata": {},
   "outputs": [],
   "source": []
  }
 ],
 "metadata": {
  "kernelspec": {
   "display_name": "Python 3 (ipykernel)",
   "language": "python",
   "name": "python3"
  },
  "language_info": {
   "codemirror_mode": {
    "name": "ipython",
    "version": 3
   },
   "file_extension": ".py",
   "mimetype": "text/x-python",
   "name": "python",
   "nbconvert_exporter": "python",
   "pygments_lexer": "ipython3",
   "version": "3.11.5"
  }
 },
 "nbformat": 4,
 "nbformat_minor": 5
}
